{
 "cells": [
  {
   "cell_type": "markdown",
   "metadata": {},
   "source": [
    "### 1. Import needed packages for pricing topic analysis"
   ]
  },
  {
   "cell_type": "code",
   "execution_count": 12,
   "metadata": {},
   "outputs": [],
   "source": [
    "import pandas as pd\n",
    "from collections import Counter"
   ]
  },
  {
   "cell_type": "markdown",
   "metadata": {},
   "source": [
    "### 2. Read merged CSV file"
   ]
  },
  {
   "cell_type": "code",
   "execution_count": 13,
   "metadata": {},
   "outputs": [],
   "source": [
    "df = pd.read_csv('clean_data_+_data_pricing.csv')"
   ]
  },
  {
   "cell_type": "markdown",
   "metadata": {},
   "source": [
    "### 3. Define price set for \"Pricing\"-topic and look for matches in each review"
   ]
  },
  {
   "cell_type": "code",
   "execution_count": 14,
   "metadata": {},
   "outputs": [],
   "source": [
    "price_set = {'paywall', 'buy', 'subscription', 'pay', 'payment', 'cost', 'expensive', 'cheap', 'price', 'price', 'pricing', 'purchase', 'fee'}\n",
    "matches = []\n",
    "for x in df[\"content_nonstop\"]:\n",
    "    if price_set.isdisjoint(set(x.split(' '))):\n",
    "        matches.append(0)\n",
    "    else:\n",
    "        matches.append(1)\n",
    "df = df.assign(contains_pricing=pd.Series(matches))"
   ]
  },
  {
   "cell_type": "markdown",
   "metadata": {},
   "source": [
    "### 4. Create dataframe for reviews including \"Pricing\"-topic"
   ]
  },
  {
   "cell_type": "code",
   "execution_count": 15,
   "metadata": {},
   "outputs": [],
   "source": [
    "df_pricing = df.loc[(df['contains_pricing'] == 1)]"
   ]
  },
  {
   "cell_type": "markdown",
   "metadata": {},
   "source": [
    "### 5. Create dataframe grouped by sentiment for counts of all reviews and counts of reviews including \"Pricing\"-topic"
   ]
  },
  {
   "cell_type": "markdown",
   "metadata": {},
   "source": [
    "counts grouped by sentiment and 1 other column (for example \"test_period\")"
   ]
  },
  {
   "cell_type": "code",
   "execution_count": 16,
   "metadata": {},
   "outputs": [],
   "source": [
    "basic = df.groupby('test_period')['sentiment'].value_counts().reset_index(name='counts total')\n",
    "pricing = df_pricing.groupby('test_period')['sentiment'].value_counts().reset_index(name='counts pricing')"
   ]
  },
  {
   "cell_type": "markdown",
   "metadata": {},
   "source": [
    "counts grouped by sentiment and 2 other columns (for example \"freemium\" and \"subscription_flatrate\")"
   ]
  },
  {
   "cell_type": "code",
   "execution_count": 17,
   "metadata": {},
   "outputs": [],
   "source": [
    "#basic = df.groupby(['freemium', 'subscription_flatrate'])['sentiment'].value_counts().reset_index(name='counts total')\n",
    "#pricing = df_pricing.groupby(['freemium', 'subscription_flatrate'])['sentiment'].value_counts().reset_index(name='counts pricing')"
   ]
  },
  {
   "cell_type": "markdown",
   "metadata": {},
   "source": [
    "### 6. Merge dataframes by 'sentiment' and value you want to compare (i.e. 'test_period', if app offers test periods or not); add calculating columns for percentage of positive, negative or neutral reviews per group and percentage of reviews including \"Pricing\"-topics"
   ]
  },
  {
   "cell_type": "markdown",
   "metadata": {},
   "source": [
    "merge dataframes by sentiment and 1 other column (for example \"test_period\")"
   ]
  },
  {
   "cell_type": "code",
   "execution_count": null,
   "metadata": {},
   "outputs": [],
   "source": [
    "pricing_counts = pd.merge(basic, pricing,  how='left', left_on=['test_period','sentiment'], right_on = ['test_period','sentiment'])     #merge dataframe basic and pricing\n",
    "\n",
    "pricing_counts['percentage_pricing'] = (pricing_counts['counts pricing'] / pricing_counts['counts total']) * 100        #add percentage of reviews talking about pricing\n",
    "pricing_counts.percentage_pricing = pricing_counts.percentage_pricing.round(2)      #round percentage \n",
    "\n",
    "pricing_counts['percentage_total'] = 100 * pricing_counts['counts total'] / pricing_counts.groupby('test_period')['counts total'].transform('sum')      #add percentage of 'positive', 'negative' or 'neutral' reviews per group\n",
    "pricing_counts.percentage_total = pricing_counts.percentage_total.round(2)      #round percentage\n",
    "move_column = pricing_counts.pop('percentage_total')        #move column 'counts total' to another position\n",
    "pricing_counts.insert(3, 'percentage_total', move_column)\n",
    "\n",
    "\n",
    "pricing_counts.sort_values('test_period')       #sort values"
   ]
  },
  {
   "cell_type": "markdown",
   "metadata": {},
   "source": [
    "merge dataframe by sentiment and 2 other column (for example \"freemium\" and \"subscription_flatrate\")"
   ]
  },
  {
   "cell_type": "code",
   "execution_count": 19,
   "metadata": {},
   "outputs": [],
   "source": [
    "#pricing_counts = pd.merge(basic, pricing,  how='left', left_on=['freemium', 'subscription_flatrate', 'sentiment'], right_on = ['freemium', 'subscription_flatrate', 'sentiment'])     #merge dataframe basic and pricing\n",
    "\n",
    "#pricing_counts['percentage_pricing'] = (pricing_counts['counts pricing'] / pricing_counts['counts total']) * 100        #add percentage of reviews talking about pricing\n",
    "#pricing_counts.percentage_pricing = pricing_counts.percentage_pricing.round(2)      #round percentage \n",
    "\n",
    "#pricing_counts['percentage_total'] = 100 * pricing_counts['counts total'] / pricing_counts.groupby(['freemium', 'subscription_flatrate'])['counts total'].transform('sum')      #add percentage of 'positive', 'negative' or 'neutral' reviews per group\n",
    "#pricing_counts.percentage_total = pricing_counts.percentage_total.round(2)      #round percentage\n",
    "#move_column = pricing_counts.pop('percentage_total')        #move column 'counts total' to another position\n",
    "#pricing_counts.insert(4, 'percentage_total', move_column)\n",
    "\n",
    "\n",
    "#pricing_counts.sort_values('freemium')\n"
   ]
  },
  {
   "cell_type": "markdown",
   "metadata": {},
   "source": [
    "### 7. Export dataframe as CSV"
   ]
  },
  {
   "cell_type": "code",
   "execution_count": 20,
   "metadata": {},
   "outputs": [],
   "source": [
    "pricing_counts.to_csv('table.csv')"
   ]
  }
 ],
 "metadata": {
  "kernelspec": {
   "display_name": "Python 3.10.2 ('venv': venv)",
   "language": "python",
   "name": "python3"
  },
  "language_info": {
   "codemirror_mode": {
    "name": "ipython",
    "version": 3
   },
   "file_extension": ".py",
   "mimetype": "text/x-python",
   "name": "python",
   "nbconvert_exporter": "python",
   "pygments_lexer": "ipython3",
   "version": "3.10.2"
  },
  "orig_nbformat": 4,
  "vscode": {
   "interpreter": {
    "hash": "2ea4b1123946223b3ed1d44f9daa52845c69c43204c1bbbcdd51b1001255e945"
   }
  }
 },
 "nbformat": 4,
 "nbformat_minor": 2
}
