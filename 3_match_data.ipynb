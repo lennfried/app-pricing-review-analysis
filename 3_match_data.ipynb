{
 "cells": [
  {
   "cell_type": "markdown",
   "metadata": {},
   "source": [
    "### 1. Import pandas for merging pricing file and review file"
   ]
  },
  {
   "cell_type": "code",
   "execution_count": 13,
   "metadata": {},
   "outputs": [],
   "source": [
    "import pandas as pd"
   ]
  },
  {
   "cell_type": "markdown",
   "metadata": {},
   "source": [
    "### 2. Read CSV files and merge it"
   ]
  },
  {
   "cell_type": "code",
   "execution_count": 14,
   "metadata": {},
   "outputs": [],
   "source": [
    "pricing_df = pd.read_csv('data_pricing_apps.csv', sep=';').reset_index()\n",
    "reviews_df = pd.read_csv('small_data_clean.csv', sep=',').reset_index()\n",
    "df = pd.merge(pricing_df, reviews_df, how='inner', on='app_name')"
   ]
  },
  {
   "cell_type": "code",
   "execution_count": 15,
   "metadata": {},
   "outputs": [],
   "source": [
    "df['monthly_price'] = df['monthly_price'].div(100)      #divide prices by 100 to get usual prices\n",
    "df['yearly_price'] = df['yearly_price'].div(100)"
   ]
  },
  {
   "cell_type": "markdown",
   "metadata": {},
   "source": [
    "### 3. Create bins for monthly prices and score"
   ]
  },
  {
   "cell_type": "code",
   "execution_count": 16,
   "metadata": {},
   "outputs": [],
   "source": [
    "price_labels = ['1', '2', '3', '4']\n",
    "price_bins = [0, 7.5, 15, 70, 300]\n",
    "df['price_category'] = pd.cut(df['monthly_price'], bins=price_bins, labels=price_labels)"
   ]
  },
  {
   "cell_type": "code",
   "execution_count": 17,
   "metadata": {},
   "outputs": [],
   "source": [
    "sentiment_labels = ['negative', 'neutral', 'positive']\n",
    "sentiment_bins = [0, 2, 3, 5]\n",
    "df['sentiment'] = pd.cut(df['score'], bins=sentiment_bins, labels=sentiment_labels)"
   ]
  },
  {
   "cell_type": "markdown",
   "metadata": {},
   "source": [
    "### 4. Export merged file as CSV"
   ]
  },
  {
   "cell_type": "code",
   "execution_count": 18,
   "metadata": {},
   "outputs": [],
   "source": [
    "df.to_csv('clean_data_+_data_pricing.csv')"
   ]
  }
 ],
 "metadata": {
  "kernelspec": {
   "display_name": "Python 3.10.2 ('venv': venv)",
   "language": "python",
   "name": "python3"
  },
  "language_info": {
   "codemirror_mode": {
    "name": "ipython",
    "version": 3
   },
   "file_extension": ".py",
   "mimetype": "text/x-python",
   "name": "python",
   "nbconvert_exporter": "python",
   "pygments_lexer": "ipython3",
   "version": "3.10.2"
  },
  "orig_nbformat": 4,
  "vscode": {
   "interpreter": {
    "hash": "2ea4b1123946223b3ed1d44f9daa52845c69c43204c1bbbcdd51b1001255e945"
   }
  }
 },
 "nbformat": 4,
 "nbformat_minor": 2
}
