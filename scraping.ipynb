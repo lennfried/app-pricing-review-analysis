{
 "cells": [
  {
   "cell_type": "markdown",
   "metadata": {},
   "source": [
    "### 1. Import needed packages for scraping-process"
   ]
  },
  {
   "cell_type": "code",
   "execution_count": 1,
   "metadata": {},
   "outputs": [],
   "source": [
    "import pandas as pd\n",
    "import numpy as np\n",
    "from langdetect import detect\n",
    "from google_play_scraper import Sort, reviews"
   ]
  },
  {
   "cell_type": "markdown",
   "metadata": {},
   "source": [
    "### 2. Name the apps, which should be scraped\n",
    "\n",
    "Example-ID of 'Samsung Health':\n",
    "\n",
    "https://play.google.com/store/apps/details?id=com.sec.android.app.shealth&gl=DE (whole URL)\n",
    "-> 'com.sec.android.app.shealth' (ID for scraping-process)"
   ]
  },
  {
   "cell_type": "code",
   "execution_count": 2,
   "metadata": {},
   "outputs": [],
   "source": [
    "apps = {\n",
    "    'Samsung Health':'com.sec.android.app.shealth',\n",
    "    'MyFitnessPal: Kalorienzähler':'com.myfitnesspal.android',\n",
    "    'WW (Weight Watchers)':'com.weightwatchers.mobile',\n",
    "    'Kalorienzähler von FatSecret':'com.fatsecret.android',\n",
    "    'YAZIO: Kalorienzähler & Fasten':'com.yazio.android',\n",
    "    'HealthifyMe - Calorie Counter':'com.healthifyme.basic',\n",
    "    'Lifesum: Gesunde Ernährung':'com.sillens.shapeupclub',\n",
    "    'Noom: Gewicht & Health':'com.wsl.noom',\n",
    "    'BetterMe: Gesundheits-Coaching':'com.gen.workoutme',\n",
    "    'Lose It! - Kalorienzähler':'com.fitnow.loseit',\n",
    "    'Kalorienzähler - EasyFit':'com.marioherzberg.swipeviews_tutorial1',\n",
    "    'Kalorien, Fett & Eiweißzähler':'digifit.virtuagym.foodtracker',\n",
    "    'Fitatu Kalorienzähler & Diät':'com.fitatu.tracker',\n",
    "    'Gesundheit, Ernährung, Fitness- Kalorienzähler':'com.droidinfinity.healthplus',\n",
    "    'Ernährungstagebuch':'com.dailybits.foodjournal',\n",
    "    'Kalorienzähler HiKi':'ru.hikisoft.calories',\n",
    "    'Calorie Counter - MyNetDiary':'com.fourtechnologies.mynetdiary.ad',\n",
    "    'MyPlate Calorie Tracker':'com.livestrong.tracker',\n",
    "    'Fddb - Kalorienzähler & Diät':'com.fddb',\n",
    "    'Kalorienzähler':'com.nutratech.app.android',\n",
    "    'Cronometer - CalorieTracker':'com.cronometer.android.gold',\n",
    "    'FITTR: Fitness&Weigth Loss':'com.squats.fittr',\n",
    "    'Macros - Kalorienzähler':'com.josmantek.macros',\n",
    "    'Kalorienzähler Kalorien!':'org.digitalcure.ccnf.app',\n",
    "    'Abnehmen ohne Diät':'ru.harmonicsoft.caloriecounter'\n",
    "}"
   ]
  },
  {
   "cell_type": "markdown",
   "metadata": {},
   "source": [
    "### 3. Define criterias for scraping-process\n",
    "-> Language = English ; Country = USA ; Sort & count = define in step 5"
   ]
  },
  {
   "cell_type": "code",
   "execution_count": 3,
   "metadata": {},
   "outputs": [],
   "source": [
    "def scrape_reviews(app_id, sort, count):\n",
    "    result, continuation_token = reviews(\n",
    "        app_id,\n",
    "        lang='en', # defaults to 'en'\n",
    "        country='us', # defaults to 'us'\n",
    "        sort=sort, # defaults to Sort.NEWESTs\n",
    "        count=count, # defaults to 100\n",
    "    )\n",
    "    return result   "
   ]
  },
  {
   "cell_type": "markdown",
   "metadata": {},
   "source": [
    "### 4. Use langdetect-package\n",
    "define language exception as 'unknown' because of emojis, flags, which can't be detected"
   ]
  },
  {
   "cell_type": "code",
   "execution_count": 4,
   "metadata": {},
   "outputs": [],
   "source": [
    "def detect_language(text):\n",
    "    try:\n",
    "        lang = detect(text)\n",
    "    except Exception:\n",
    "        lang = 'unknown'\n",
    "    return lang "
   ]
  },
  {
   "cell_type": "markdown",
   "metadata": {},
   "source": [
    "### 5. Use packages pandas and numpy for building a data frame; define criterias for 'sort' and 'count'"
   ]
  },
  {
   "cell_type": "code",
   "execution_count": 6,
   "metadata": {},
   "outputs": [],
   "source": [
    "reviews_df = pd.DataFrame()\n",
    "for app_name, app_id in apps.items():\n",
    "    for sort in [Sort.MOST_RELEVANT, Sort.NEWEST]:      #first sort for 'most relevant', second sort for 'newest'\n",
    "        result = scrape_reviews(app_id, sort=sort, count=500)       #count 500 of 'most relevant' and 'newest'\n",
    "        if len(result) == 0:\n",
    "            continue\n",
    "        app_review_df = pd.DataFrame(np.array(result),columns=['review'])\n",
    "        app_review_df = app_review_df.join(pd.DataFrame(app_review_df.pop('review').to_list()))\n",
    "        app_review_df['lang'] = app_review_df['content'].apply(lambda x: detect_language(x))        #add language detection to data frame\n",
    "        app_review_df['app_name'] = app_name\n",
    "        app_review_df['source'] = 'most_relevant' if sort is Sort.MOST_RELEVANT else 'newest'       #first sort for 'most relevant', second sort for 'newest'\n",
    "        reviews_df = pd.concat([reviews_df, app_review_df])"
   ]
  },
  {
   "cell_type": "markdown",
   "metadata": {},
   "source": [
    "### 6. Export as CSV file"
   ]
  },
  {
   "cell_type": "code",
   "execution_count": 7,
   "metadata": {},
   "outputs": [],
   "source": [
    "reviews_df.to_csv('reviews.csv')"
   ]
  }
 ],
 "metadata": {
  "kernelspec": {
   "display_name": "Python 3.10.2 ('venv': venv)",
   "language": "python",
   "name": "python3"
  },
  "language_info": {
   "codemirror_mode": {
    "name": "ipython",
    "version": 3
   },
   "file_extension": ".py",
   "mimetype": "text/x-python",
   "name": "python",
   "nbconvert_exporter": "python",
   "pygments_lexer": "ipython3",
   "version": "3.10.2"
  },
  "orig_nbformat": 4,
  "vscode": {
   "interpreter": {
    "hash": "2ea4b1123946223b3ed1d44f9daa52845c69c43204c1bbbcdd51b1001255e945"
   }
  }
 },
 "nbformat": 4,
 "nbformat_minor": 2
}
