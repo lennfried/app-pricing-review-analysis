{
 "cells": [
  {
   "cell_type": "code",
   "execution_count": 1,
   "metadata": {},
   "outputs": [],
   "source": [
    "import pandas as pd\n",
    "import numpy as np\n",
    "from google_play_scraper import Sort, reviews"
   ]
  },
  {
   "cell_type": "markdown",
   "metadata": {},
   "source": [
    "### ID von App aus dem Playstore\n",
    "https://play.google.com/store/apps/details?id=com.sec.android.app.shealth&gl=DE \n",
    "Die entsprechende ID lautet com.sec.android.app.shealth"
   ]
  },
  {
   "cell_type": "code",
   "execution_count": 2,
   "metadata": {},
   "outputs": [],
   "source": [
    "apps = {\n",
    "    'Samsung Health':'com.sec.android.app.shealth',\n",
    "    'MyFitnessPal: Kalorienzähler':'com.myfitnesspal.android',\n",
    "    'WW (Weight Watchers)':'com.weightwatchers.mobile'\n",
    "}"
   ]
  },
  {
   "cell_type": "code",
   "execution_count": 15,
   "metadata": {},
   "outputs": [],
   "source": [
    "def scrape_reviews(app_id):\n",
    "    result, continuation_token = reviews(\n",
    "        app_id,\n",
    "        lang='en', # defaults to 'en'\n",
    "        country='us', # defaults to 'us'\n",
    "        sort=Sort.MOST_RELEVANT, # defaults to Sort.NEWESTs\n",
    "        count=100, # defaults to 100\n",
    "    )\n",
    "    return result   "
   ]
  },
  {
   "cell_type": "code",
   "execution_count": 16,
   "metadata": {},
   "outputs": [],
   "source": [
    "reviews_df = pd.DataFrame()"
   ]
  },
  {
   "cell_type": "code",
   "execution_count": 17,
   "metadata": {},
   "outputs": [],
   "source": [
    "for app_name, app_id in apps.items():\n",
    "    result = scrape_reviews(app_id)\n",
    "    app_review_df = pd.DataFrame(np.array(result),columns=['review'])\n",
    "    app_review_df = app_review_df.join(pd.DataFrame(app_review_df.pop('review').to_list()))\n",
    "    app_review_df['app_name'] = app_name\n",
    "    reviews_df = pd.concat([reviews_df, app_review_df])"
   ]
  },
  {
   "cell_type": "code",
   "execution_count": 21,
   "metadata": {},
   "outputs": [],
   "source": [
    "small_reviews_df = reviews_df[['app_name','at','content','score']]"
   ]
  },
  {
   "cell_type": "code",
   "execution_count": 22,
   "metadata": {},
   "outputs": [],
   "source": [
    "small_reviews_df.to_csv('small_reviews.csv')"
   ]
  }
 ],
 "metadata": {
  "kernelspec": {
   "display_name": "Python 3.10.2 ('venv': venv)",
   "language": "python",
   "name": "python3"
  },
  "language_info": {
   "codemirror_mode": {
    "name": "ipython",
    "version": 3
   },
   "file_extension": ".py",
   "mimetype": "text/x-python",
   "name": "python",
   "nbconvert_exporter": "python",
   "pygments_lexer": "ipython3",
   "version": "3.10.2"
  },
  "orig_nbformat": 4,
  "vscode": {
   "interpreter": {
    "hash": "2ea4b1123946223b3ed1d44f9daa52845c69c43204c1bbbcdd51b1001255e945"
   }
  }
 },
 "nbformat": 4,
 "nbformat_minor": 2
}
